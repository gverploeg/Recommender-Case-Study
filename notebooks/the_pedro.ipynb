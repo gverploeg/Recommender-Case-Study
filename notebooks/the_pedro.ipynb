{
 "cells": [
  {
   "cell_type": "code",
   "execution_count": 275,
   "metadata": {},
   "outputs": [],
   "source": [
    "import math\n",
    "from scipy import stats\n",
    "from scipy.spatial.distance import euclidean\n",
    "import numpy as np\n",
    "import pandas as pd\n",
    "import matplotlib.pyplot as plt\n",
    "plt.style.use('ggplot')\n",
    "plt.rcParams.update({'font.size': 16})\n",
    "plt.rcParams['axes.facecolor'] = 'white'\n",
    "import matplotlib as mpl\n",
    "mpl.rcParams['grid.color'] = 'lightgrey'\n",
    "#needed for all graphs\n",
    "colors = ['black', 'yellowgreen', 'thistle', 'slategrey', 'm']\n",
    "alphas = [1, .5, 1, 1, 1]\n",
    "s = 5\n",
    "\n",
    "from scipy.sparse import csr_matrix\n",
    "from src.ItemItemRecommender import ItemItemRecommender\n",
    "from sklearn.model_selection import train_test_split\n",
    "from src.item_item_prototype import get_ratings_data, load_movies\n",
    "import warnings\n",
    "warnings.filterwarnings('ignore')\n",
    "\n",
    "\n",
    "# little test matrix\n",
    "def ratings_matrix():\n",
    "    return np.array([[4, 4, 0, 2, 2],\n",
    "                     [4, 0, 0, 3, 3],\n",
    "                     [4, 0, 0, 1, 1],\n",
    "                     [1, 1, 1, 2, 0],\n",
    "                     [2, 2, 2, 0, 0],\n",
    "                     [1, 1, 1, 0, 0],\n",
    "                     [5, 5, 5, 0, 0]]).astype(float)"
   ]
  },
  {
   "cell_type": "code",
   "execution_count": null,
   "metadata": {},
   "outputs": [],
   "source": []
  },
  {
   "cell_type": "code",
   "execution_count": 276,
   "metadata": {},
   "outputs": [],
   "source": [
    "# def sim_euclidean(u, v):\n",
    "#     return 1 / (1 + euclidean(u, v))\n",
    "\n",
    "# def sim_cosine(u, v):\n",
    "#     costheta = np.dot(u, v)/(np.linalg.norm(u) * np.linalg.norm(v))\n",
    "#     return 0.5 + 0.5 * costheta"
   ]
  },
  {
   "cell_type": "code",
   "execution_count": 277,
   "metadata": {},
   "outputs": [],
   "source": [
    "# plan to impute ratings.\n",
    "# input: given any two items U(i,j), and distance metric d:\n",
    "# find the distance between the vectors of shared ratings\n",
    "# output: matrix of distances between items\n",
    "\n",
    "# for any two users, + distance metric\n",
    "# find the distance between the vectors of shared ratings\n",
    "# output: user distance matrix\n",
    "\n",
    "# for each missing value:\n",
    "# PEDRO:\n",
    "# for all peter rated food\n",
    "# sum(col dist: chk to item) * peter rating of j\n",
    "\n",
    "# RILEY:\n",
    "# normalize user distance matrix\n",
    "# missing values = for each row\n",
    "#sum across columns dist-to-peter * normed average \n"
   ]
  },
  {
   "cell_type": "code",
   "execution_count": 303,
   "metadata": {},
   "outputs": [],
   "source": [
    "# Pedro\n",
    "utility = ratings_matrix()\n",
    "\n",
    "n = utility.shape[0]\n",
    "m = utility.shape[1]\n",
    "\n",
    "\n",
    "# A matrix of distances between movies\n",
    "def item_dist_mat(df):\n",
    "    m = df.shape[1]\n",
    "    M = df.T\n",
    "    D_cos = np.zeros((m,m))\n",
    "    D_euc = np.zeros((m,m))\n",
    "    for i in range(m):\n",
    "        for j in range(m):\n",
    "            if i != j:\n",
    "                z = (M[i]==0) + (M[j]==0)\n",
    "                a,b = M[i][~z], M[j][~z]\n",
    "                if len(a) > 0:\n",
    "                    d_cos = (a.dot(b))/(np.sqrt(a.dot(a))*np.sqrt(b.dot(b)))\n",
    "#                     d_euc = np.sqrt(sum((a-b)**2))\n",
    "                    D_cos[i,j] = d_cos # round(np.abs(1 - d_cos),2)\n",
    "#                     D_euc[i,j] = d_euc\n",
    "    return D_cos\n",
    "\n",
    "item_weights = item_dist_mat(utility)\n",
    "\n",
    "# def user_mean_mat(df)\n",
    "#     n = df.shape[0]\n",
    "#     riley = df.mean(axis = 1)\n",
    "#     sd = df.std(axis = 1)\n",
    "\n",
    "# A matrix of distances between users\n",
    "def user_dist_mat(df):\n",
    "    m = df.shape[0]\n",
    "    M = df\n",
    "    D_cos = np.zeros((m,m))\n",
    "    D_euc = np.zeros((m,m))\n",
    "    for i in range(m):\n",
    "        for j in range(m):\n",
    "            if i != j:\n",
    "                z = (M[i]==0) + (M[j]==0)\n",
    "                a,b = M[i][~z], M[j][~z]\n",
    "                if len(a) > 0:\n",
    "                    d_cos = (a.dot(b))/(np.sqrt(a.dot(a))*np.sqrt(b.dot(b)))\n",
    "#                     d_euc = np.sqrt(sum((a-b)**2))\n",
    "                    D_cos[i,j] = d_cos\n",
    "#                     D_euc[i,j] = d_euc\n",
    "    return D_cos\n",
    "\n",
    "user_weights = user_dist_mat(utility)\n"
   ]
  },
  {
   "cell_type": "code",
   "execution_count": 304,
   "metadata": {},
   "outputs": [
    {
     "data": {
      "text/plain": [
       "array([[4., 4., 0., 2., 2.],\n",
       "       [4., 0., 0., 3., 3.],\n",
       "       [4., 0., 0., 1., 1.],\n",
       "       [1., 1., 1., 2., 0.],\n",
       "       [2., 2., 2., 0., 0.],\n",
       "       [1., 1., 1., 0., 0.],\n",
       "       [5., 5., 5., 0., 0.]])"
      ]
     },
     "execution_count": 304,
     "metadata": {},
     "output_type": "execute_result"
    }
   ],
   "source": [
    "item_weights.shape # 5x5 #movies x #movies\n",
    "utility"
   ]
  },
  {
   "cell_type": "code",
   "execution_count": 305,
   "metadata": {},
   "outputs": [
    {
     "data": {
      "text/plain": [
       "(7, 7)"
      ]
     },
     "execution_count": 305,
     "metadata": {},
     "output_type": "execute_result"
    }
   ],
   "source": [
    "user_weights.shape # 7x7 #users x #users"
   ]
  },
  {
   "cell_type": "code",
   "execution_count": null,
   "metadata": {},
   "outputs": [],
   "source": []
  },
  {
   "cell_type": "code",
   "execution_count": 306,
   "metadata": {},
   "outputs": [],
   "source": [
    "# X = utility\n",
    "# U = user_dist_mat(utility)\n",
    "# I = item_dist_mat(utility)\n",
    "\n",
    "# for j in range(5):\n",
    "#     X[0][2] = X[0].dot(I[2])/4\n",
    "# X[0][2]"
   ]
  },
  {
   "cell_type": "code",
   "execution_count": 307,
   "metadata": {},
   "outputs": [],
   "source": [
    "# X[0][2] = X.T[2].dot(U[0])\n",
    "# X[0][2]/6\n"
   ]
  },
  {
   "cell_type": "code",
   "execution_count": 311,
   "metadata": {},
   "outputs": [],
   "source": [
    "# lam is a parameter for weighting other peoples ratings lam closer to 1\n",
    "# or your ratings lam closer to 0\n",
    "\n",
    "def imputed_rating(utility_mat, lam = .5, var_scalar = 1.5):\n",
    "    X = utility_mat.copy()\n",
    "    U = user_dist_mat(utility_mat)\n",
    "    I = item_dist_mat(utility_mat)\n",
    "    n = utility_mat.shape[0]\n",
    "    m = utility_mat.shape[1]\n",
    "    for i in range(n):\n",
    "        for j in range(m):\n",
    "            if X[i,j] == 0:\n",
    "                x = math.ceil(lam*((X[i].dot(I[j]))/(m-1))*var_scalar*(X[i][X[i]>0].var())+(1-lam)*((X.T[j].dot(U[i]))/(n-1)))\n",
    "                if x > 5:\n",
    "                    x = 5\n",
    "                X[i,j] = x\n",
    "    return X\n",
    "\n",
    "X = imputed_rating(utility)\n"
   ]
  },
  {
   "cell_type": "code",
   "execution_count": null,
   "metadata": {},
   "outputs": [],
   "source": []
  },
  {
   "cell_type": "code",
   "execution_count": 324,
   "metadata": {},
   "outputs": [
    {
     "data": {
      "text/plain": [
       "array([[4., 4., 0., 2., 2.],\n",
       "       [4., 0., 0., 3., 3.],\n",
       "       [4., 0., 0., 1., 1.],\n",
       "       [1., 1., 1., 2., 0.],\n",
       "       [2., 2., 2., 0., 0.],\n",
       "       [1., 1., 1., 0., 0.],\n",
       "       [5., 5., 5., 0., 0.]])"
      ]
     },
     "execution_count": 324,
     "metadata": {},
     "output_type": "execute_result"
    }
   ],
   "source": [
    "utility"
   ]
  },
  {
   "cell_type": "code",
   "execution_count": 312,
   "metadata": {},
   "outputs": [
    {
     "data": {
      "text/plain": [
       "array([[4., 4., 3., 2., 2.],\n",
       "       [4., 2., 2., 3., 3.],\n",
       "       [4., 4., 5., 1., 1.],\n",
       "       [1., 1., 1., 2., 1.],\n",
       "       [2., 2., 2., 1., 1.],\n",
       "       [1., 1., 1., 1., 1.],\n",
       "       [5., 5., 5., 1., 5.]])"
      ]
     },
     "execution_count": 312,
     "metadata": {},
     "output_type": "execute_result"
    }
   ],
   "source": [
    "X"
   ]
  },
  {
   "cell_type": "code",
   "execution_count": 344,
   "metadata": {},
   "outputs": [
    {
     "data": {
      "text/plain": [
       "(array([[0., 1., 1., 0., 0., 0., 2.],\n",
       "        [1., 0., 1., 0., 0., 0., 1.],\n",
       "        [1., 1., 0., 0., 0., 0., 1.],\n",
       "        [0., 0., 0., 0., 0., 0., 0.],\n",
       "        [0., 0., 0., 0., 0., 0., 0.],\n",
       "        [0., 0., 0., 0., 0., 0., 0.],\n",
       "        [1., 1., 1., 0., 0., 0., 0.]]),\n",
       " array([[0., 3., 3., 0., 0., 0., 2.],\n",
       "        [2., 0., 2., 0., 0., 0., 3.],\n",
       "        [2., 2., 0., 0., 0., 0., 3.],\n",
       "        [0., 0., 0., 0., 0., 0., 0.],\n",
       "        [0., 0., 0., 0., 0., 0., 0.],\n",
       "        [0., 0., 0., 0., 0., 0., 0.],\n",
       "        [2., 2., 2., 0., 0., 0., 0.]]))"
      ]
     },
     "execution_count": 344,
     "metadata": {},
     "output_type": "execute_result"
    }
   ],
   "source": [
    "from numpy.linalg import matrix_power\n",
    "\n",
    "def kismet(util_mat, min_rating = 3):\n",
    "    K = util_mat.copy()\n",
    "    n = util_mat.shape[0]\n",
    "    m = util_mat.shape[1]\n",
    "    for i in range(n):\n",
    "        for j in range(m):\n",
    "            if K[i,j] >= 3:\n",
    "                K[i,j] = 1\n",
    "            else:\n",
    "                K[i,j] = 0\n",
    "    Ksq = K.dot(K.T)\n",
    "    np.fill_diagonal(Ksq,0)\n",
    "    for i in range(n):\n",
    "        for j in range(m):\n",
    "            if Ksq[i,j] > 1:\n",
    "                Ksq[i,j] = 1\n",
    "    return Ksq\n",
    "\n",
    "k = kismet(utility)\n",
    "# K = k.dot(k.T)\n",
    "# np.fill_diagonal(K, 0)\n",
    "# K\n",
    "k2 = matrix_power(k, 2)\n",
    "two_path = np.fill_diagonal(k2,0)\n",
    "k, k2"
   ]
  },
  {
   "cell_type": "code",
   "execution_count": 330,
   "metadata": {},
   "outputs": [
    {
     "data": {
      "text/plain": [
       "array([[4., 4., 0., 2., 2.],\n",
       "       [4., 0., 0., 3., 3.],\n",
       "       [4., 0., 0., 1., 1.],\n",
       "       [1., 1., 1., 2., 0.],\n",
       "       [2., 2., 2., 0., 0.],\n",
       "       [1., 1., 1., 0., 0.],\n",
       "       [5., 5., 5., 0., 0.]])"
      ]
     },
     "execution_count": 330,
     "metadata": {},
     "output_type": "execute_result"
    }
   ],
   "source": [
    "utility"
   ]
  },
  {
   "cell_type": "code",
   "execution_count": 337,
   "metadata": {},
   "outputs": [
    {
     "data": {
      "text/plain": [
       "array([[0., 1., 1., 0., 0., 0., 2.],\n",
       "       [1., 0., 1., 0., 0., 0., 1.],\n",
       "       [1., 1., 0., 0., 0., 0., 1.],\n",
       "       [0., 0., 0., 0., 0., 0., 0.],\n",
       "       [0., 0., 0., 0., 0., 0., 0.],\n",
       "       [0., 0., 0., 0., 0., 0., 0.],\n",
       "       [1., 1., 1., 0., 0., 0., 0.]])"
      ]
     },
     "execution_count": 337,
     "metadata": {},
     "output_type": "execute_result"
    }
   ],
   "source": [
    "k"
   ]
  },
  {
   "cell_type": "code",
   "execution_count": 75,
   "metadata": {},
   "outputs": [
    {
     "data": {
      "text/plain": [
       "array([[4., 4., 0., 2., 2.],\n",
       "       [4., 0., 0., 3., 3.],\n",
       "       [4., 0., 0., 1., 1.],\n",
       "       [1., 1., 1., 2., 0.],\n",
       "       [2., 2., 2., 0., 0.],\n",
       "       [1., 1., 1., 0., 0.],\n",
       "       [5., 5., 5., 0., 0.]])"
      ]
     },
     "execution_count": 75,
     "metadata": {},
     "output_type": "execute_result"
    }
   ],
   "source": [
    "utility"
   ]
  },
  {
   "cell_type": "code",
   "execution_count": 339,
   "metadata": {},
   "outputs": [
    {
     "ename": "ValueError",
     "evalue": "operands could not be broadcast together with shapes (7,5) (7,) ",
     "output_type": "error",
     "traceback": [
      "\u001b[0;31m---------------------------------------------------------------------------\u001b[0m",
      "\u001b[0;31mValueError\u001b[0m                                Traceback (most recent call last)",
      "\u001b[0;32m<ipython-input-339-6189829d0e9f>\u001b[0m in \u001b[0;36m<module>\u001b[0;34m\u001b[0m\n\u001b[0;32m----> 1\u001b[0;31m \u001b[0mutility\u001b[0m \u001b[0;34m-\u001b[0m \u001b[0mutility\u001b[0m\u001b[0;34m.\u001b[0m\u001b[0mmean\u001b[0m\u001b[0;34m(\u001b[0m\u001b[0maxis\u001b[0m\u001b[0;34m=\u001b[0m\u001b[0;36m1\u001b[0m\u001b[0;34m)\u001b[0m\u001b[0;34m\u001b[0m\u001b[0;34m\u001b[0m\u001b[0m\n\u001b[0m",
      "\u001b[0;31mValueError\u001b[0m: operands could not be broadcast together with shapes (7,5) (7,) "
     ]
    }
   ],
   "source": [
    "utility - utility.mean(axis=1)"
   ]
  },
  {
   "cell_type": "code",
   "execution_count": 77,
   "metadata": {},
   "outputs": [
    {
     "data": {
      "text/plain": [
       "array([1.49666295, 1.67332005, 1.46969385, 0.63245553, 0.9797959 ,\n",
       "       0.48989795, 2.44948974])"
      ]
     },
     "execution_count": 77,
     "metadata": {},
     "output_type": "execute_result"
    }
   ],
   "source": [
    "utility.std(axis=1)"
   ]
  },
  {
   "cell_type": "code",
   "execution_count": 80,
   "metadata": {},
   "outputs": [
    {
     "data": {
      "text/plain": [
       "0.9999999999999999"
      ]
     },
     "execution_count": 80,
     "metadata": {},
     "output_type": "execute_result"
    }
   ],
   "source": [
    "a = np.ones(5)\n",
    "b = np.ones(5)*5\n",
    "(a.dot(b))/(np.sqrt(a.dot(a))*np.sqrt(b.dot(b)))"
   ]
  },
  {
   "cell_type": "code",
   "execution_count": 69,
   "metadata": {},
   "outputs": [
    {
     "data": {
      "text/plain": [
       "array([4., 1., 2., 1., 5.])"
      ]
     },
     "execution_count": 69,
     "metadata": {},
     "output_type": "execute_result"
    }
   ],
   "source": [
    "M[1]\n",
    "z\n",
    "M[1][~z]\n",
    "M[0][~z]"
   ]
  },
  {
   "cell_type": "code",
   "execution_count": 12,
   "metadata": {},
   "outputs": [
    {
     "data": {
      "text/plain": [
       "array([[4., 4., 4., 1., 2., 1., 5.],\n",
       "       [4., 0., 0., 1., 2., 1., 5.],\n",
       "       [0., 0., 0., 1., 2., 1., 5.],\n",
       "       [2., 3., 1., 2., 0., 0., 0.],\n",
       "       [2., 3., 1., 0., 0., 0., 0.]])"
      ]
     },
     "execution_count": 12,
     "metadata": {},
     "output_type": "execute_result"
    }
   ],
   "source": [
    "\n",
    "\n",
    "\n",
    "\n",
    "utility.T"
   ]
  },
  {
   "cell_type": "code",
   "execution_count": null,
   "metadata": {},
   "outputs": [],
   "source": [
    "# Riley\n"
   ]
  },
  {
   "cell_type": "code",
   "execution_count": 9,
   "metadata": {},
   "outputs": [
    {
     "data": {
      "text/plain": [
       "array([[4., 4., 0., 2., 2.],\n",
       "       [4., 0., 0., 3., 3.],\n",
       "       [4., 0., 0., 1., 1.],\n",
       "       [1., 1., 1., 2., 0.],\n",
       "       [2., 2., 2., 0., 0.],\n",
       "       [1., 1., 1., 0., 0.],\n",
       "       [5., 5., 5., 0., 0.]])"
      ]
     },
     "execution_count": 9,
     "metadata": {},
     "output_type": "execute_result"
    }
   ],
   "source": [
    "utility"
   ]
  },
  {
   "cell_type": "code",
   "execution_count": 85,
   "metadata": {},
   "outputs": [
    {
     "data": {
      "text/plain": [
       "array([2., 2., 0., 0.])"
      ]
     },
     "execution_count": 85,
     "metadata": {},
     "output_type": "execute_result"
    }
   ],
   "source": [
    "(utility[0][utility[0]!=0]-utility[0][utility[0]!=0].mean())+utility[0][utility[0]!=0].std()"
   ]
  },
  {
   "cell_type": "code",
   "execution_count": 86,
   "metadata": {},
   "outputs": [
    {
     "data": {
      "text/plain": [
       "1.0"
      ]
     },
     "execution_count": 86,
     "metadata": {},
     "output_type": "execute_result"
    }
   ],
   "source": [
    "utility[0][utility[0]!=0].std()"
   ]
  },
  {
   "cell_type": "code",
   "execution_count": 97,
   "metadata": {},
   "outputs": [
    {
     "name": "stdout",
     "output_type": "stream",
     "text": [
      "[4.5 4.5 2.5 2.5]\n",
      "[2.77777778 1.77777778 1.77777778]\n",
      "[7. 4. 4.]\n",
      "[0.75 0.75 0.75 1.75]\n",
      "[1. 1. 1.]\n",
      "[0.5 0.5 0.5]\n",
      "[2.5 2.5 2.5]\n"
     ]
    }
   ],
   "source": [
    "for i in range(7):\n",
    "    print((utility[i][utility[i]!=0]-.5*utility[i][utility[i]!=0].mean())+2*utility[i][utility[i]!=0].var())"
   ]
  },
  {
   "cell_type": "code",
   "execution_count": null,
   "metadata": {},
   "outputs": [],
   "source": []
  }
 ],
 "metadata": {
  "kernelspec": {
   "display_name": "Python 3",
   "language": "python",
   "name": "python3"
  },
  "language_info": {
   "codemirror_mode": {
    "name": "ipython",
    "version": 3
   },
   "file_extension": ".py",
   "mimetype": "text/x-python",
   "name": "python",
   "nbconvert_exporter": "python",
   "pygments_lexer": "ipython3",
   "version": "3.7.7"
  }
 },
 "nbformat": 4,
 "nbformat_minor": 4
}
