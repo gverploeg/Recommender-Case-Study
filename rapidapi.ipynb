{
 "metadata": {
  "language_info": {
   "codemirror_mode": {
    "name": "ipython",
    "version": 3
   },
   "file_extension": ".py",
   "mimetype": "text/x-python",
   "name": "python",
   "nbconvert_exporter": "python",
   "pygments_lexer": "ipython3",
   "version": "3.7.7-final"
  },
  "orig_nbformat": 2,
  "kernelspec": {
   "name": "python3",
   "display_name": "Python 3"
  }
 },
 "nbformat": 4,
 "nbformat_minor": 2,
 "cells": [
  {
   "cell_type": "code",
   "execution_count": 7,
   "metadata": {},
   "outputs": [
    {
     "output_type": "stream",
     "name": "stdout",
     "text": [
      "{\"Search\":[{\"Title\":\"Avengers: Endgame\",\"Year\":\"2019\",\"imdbID\":\"tt4154796\",\"Type\":\"movie\",\"Poster\":\"https://m.media-amazon.com/images/M/MV5BMTc5MDE2ODcwNV5BMl5BanBnXkFtZTgwMzI2NzQ2NzM@._V1_SX300.jpg\"},{\"Title\":\"Marvel Studios' Avengers: Endgame LIVE Red Carpet World Premiere\",\"Year\":\"2019\",\"imdbID\":\"tt10240638\",\"Type\":\"movie\",\"Poster\":\"https://m.media-amazon.com/images/M/MV5BNThjZDgwZTYtMjdmYy00ZmUyLTk4NTUtMzdjZmExODQ3ZmY4XkEyXkFqcGdeQXVyMjkzMDgyNTg@._V1_SX300.jpg\"},{\"Title\":\"Avengers Endgame: the Butt Plan\",\"Year\":\"2019\",\"imdbID\":\"tt10399328\",\"Type\":\"movie\",\"Poster\":\"https://m.media-amazon.com/images/M/MV5BNTQ1OWQzODktMTY3Zi00OTQxLWExOTYtZTNjZjY5ZTY4M2UyXkEyXkFqcGdeQXVyMTAzMzk0NjAy._V1_SX300.jpg\"}],\"totalResults\":\"3\",\"Response\":\"True\"}\n"
     ]
    }
   ],
   "source": [
    "import requests\n",
    "\n",
    "url = \"https://movie-database-imdb-alternative.p.rapidapi.com/\"\n",
    "\n",
    "querystring = {\"s\":\"Avengers Endgame\",\"page\":\"1\",\"r\":\"json\"}\n",
    "\n",
    "headers = {\n",
    "    'x-rapidapi-key': \"578440e6eamsh28a539ee827f075p102da9jsne7cb4f3c4183\",\n",
    "    'x-rapidapi-host': \"movie-database-imdb-alternative.p.rapidapi.com\"\n",
    "    }\n",
    "\n",
    "response = requests.request(\"GET\", url, headers=headers, params=querystring)\n",
    "\n",
    "print(response.text)"
   ]
  },
  {
   "cell_type": "code",
   "execution_count": 10,
   "metadata": {},
   "outputs": [
    {
     "output_type": "execute_result",
     "data": {
      "text/plain": [
       "{'Access-Control-Allow-Origin': '*', 'Age': '70225', 'Cache-Control': 'public, max-age=86400', 'CF-Cache-Status': 'HIT', 'CF-RAY': '60017e717d0373f1-IAD', 'cf-request-id': '06f4cd5aed000073f17585f000000001', 'Content-Encoding': 'gzip', 'Content-Type': 'application/json; charset=utf-8', 'Date': 'Fri, 11 Dec 2020 19:08:22 GMT', 'Expect-CT': 'max-age=604800, report-uri=\"https://report-uri.cloudflare.com/cdn-cgi/beacon/expect-ct\"', 'Expires': 'Fri, 11 Dec 2020 00:37:56 GMT', 'Last-Modified': 'Thu, 10 Dec 2020 23:37:56 GMT', 'Server': 'RapidAPI-1.2.6', 'Set-Cookie': '__cfduid=d3b63622603e301e1a89b68533a5e93021607713702; expires=Sun, 10-Jan-21 19:08:22 GMT; path=/; domain=.omdbapi.com; HttpOnly; SameSite=Lax', 'Vary': '*, Accept-Encoding', 'X-AspNet-Version': '4.0.30319', 'X-Powered-By': 'ASP.NET', 'X-RapidAPI-Region': 'AWS - us-east-1', 'X-RapidAPI-Version': '1.2.6', 'X-RateLimit-Requests-Limit': '100000', 'X-RateLimit-Requests-Remaining': '99998', 'X-RateLimit-Requests-Reset': '86042', 'Content-Length': '419', 'Connection': 'keep-alive'}"
      ]
     },
     "metadata": {},
     "execution_count": 10
    },
    {
     "output_type": "error",
     "ename": "AttributeError",
     "evalue": "'Response' object has no attribute 'raw_body'",
     "traceback": [
      "\u001b[0;31m---------------------------------------------------------------------------\u001b[0m",
      "\u001b[0;31mAttributeError\u001b[0m                            Traceback (most recent call last)",
      "\u001b[0;32m<ipython-input-10-9d84ba4e534d>\u001b[0m in \u001b[0;36m<module>\u001b[0;34m()\u001b[0m\n\u001b[1;32m      2\u001b[0m \u001b[0mresponse\u001b[0m\u001b[0;34m.\u001b[0m\u001b[0mheaders\u001b[0m \u001b[0;31m# The HTTP headers\u001b[0m\u001b[0;34m\u001b[0m\u001b[0;34m\u001b[0m\u001b[0m\n\u001b[1;32m      3\u001b[0m \u001b[0;31m# response.body # The parsed response\u001b[0m\u001b[0;34m\u001b[0m\u001b[0;34m\u001b[0m\u001b[0;34m\u001b[0m\u001b[0m\n\u001b[0;32m----> 4\u001b[0;31m \u001b[0mresponse\u001b[0m\u001b[0;34m.\u001b[0m\u001b[0mraw_body\u001b[0m \u001b[0;31m# The unparsed response\u001b[0m\u001b[0;34m\u001b[0m\u001b[0;34m\u001b[0m\u001b[0m\n\u001b[0m",
      "\u001b[0;31mAttributeError\u001b[0m: 'Response' object has no attribute 'raw_body'"
     ]
    }
   ],
   "source": [
    "# response.code # The HTTP status code\n",
    "response.headers # The HTTP headers\n",
    "# response.body # The parsed response\n",
    "response.raw_body # The unparsed response"
   ]
  },
  {
   "cell_type": "code",
   "execution_count": 6,
   "metadata": {},
   "outputs": [
    {
     "output_type": "error",
     "ename": "ModuleNotFoundError",
     "evalue": "No module named 'unirest'",
     "traceback": [
      "\u001b[0;31m---------------------------------------------------------------------------\u001b[0m",
      "\u001b[0;31mModuleNotFoundError\u001b[0m                       Traceback (most recent call last)",
      "\u001b[0;32m<ipython-input-6-fce0a951e530>\u001b[0m in \u001b[0;36m<module>\u001b[0;34m()\u001b[0m\n\u001b[0;32m----> 1\u001b[0;31m \u001b[0;32mimport\u001b[0m \u001b[0munirest\u001b[0m\u001b[0;34m\u001b[0m\u001b[0;34m\u001b[0m\u001b[0m\n\u001b[0m\u001b[1;32m      2\u001b[0m response = unirest.post(API_URL,\n\u001b[1;32m      3\u001b[0m   headers={\n\u001b[1;32m      4\u001b[0m     \u001b[0;34m\"X-RapidAPI-Key\"\u001b[0m\u001b[0;34m:\u001b[0m \u001b[0mAPI_KEY\u001b[0m\u001b[0;34m,\u001b[0m\u001b[0;34m\u001b[0m\u001b[0;34m\u001b[0m\u001b[0m\n\u001b[1;32m      5\u001b[0m     \u001b[0;34m\"Content-Type\"\u001b[0m\u001b[0;34m:\u001b[0m \u001b[0;34m\"application/x-www-form-urlencoded\"\u001b[0m\u001b[0;34m\u001b[0m\u001b[0;34m\u001b[0m\u001b[0m\n",
      "\u001b[0;31mModuleNotFoundError\u001b[0m: No module named 'unirest'"
     ]
    }
   ],
   "source": [
    "# import unirest\n",
    "response = unirest.post(API_URL,\n",
    "  headers={\n",
    "    \"X-RapidAPI-Key\": API_KEY,\n",
    "    \"Content-Type\": \"application/x-www-form-urlencoded\"\n",
    "  },\n",
    "  params={\n",
    "    \"parameter\": \"value\"\n",
    "  }\n",
    ")\n",
    "response.code # The HTTP status code\n",
    "response.headers # The HTTP headers\n",
    "response.body # The parsed response\n",
    "response.raw_body # The unparsed response"
   ]
  },
  {
   "cell_type": "code",
   "execution_count": 12,
   "metadata": {},
   "outputs": [
    {
     "output_type": "stream",
     "name": "stdout",
     "text": [
      "Lana Wachowski\n",
      "Lilly Wachowski\n",
      "['akas', 'animation department', 'art department', 'art directors', 'aspect ratio', 'assistant directors', 'box office', 'camera department', 'canonical title', 'cast', 'casting department', 'casting directors', 'certificates', 'cinematographers', 'color info', 'composers', 'costume departmen', 'costume designers', 'countries', 'country codes', 'cover url', 'director', 'directors', 'distributors', 'editorial department', 'editors', 'full-size cover url', 'genres', 'imdbID', 'kind', 'language codes', 'languages', 'location management', 'long imdb canonical title', 'long imdb title', 'make up department', 'miscellaneous', 'music department', 'original air date', 'original title', 'other companies', 'plot', 'plot outline', 'producers', 'production companies', 'production designers', 'production managers', 'rating', 'runtimes', 'script department', 'set decorators', 'smart canonical title', 'smart long imdb canonical title', 'sound department', 'sound mix', 'special effects', 'special effects companies', 'stunts', 'synopsis', 'title', 'top 250 rank', 'transportation department', 'visual effects', 'votes', 'writer', 'writers', 'year']\n",
      "['airing', 'akas', 'alternate versions', 'awards', 'connections', 'crazy credits', 'critic reviews', 'episodes', 'external reviews', 'external sites', 'faqs', 'full credits', 'goofs', 'keywords', 'list', 'locations', 'main', 'misc sites', 'news', 'official sites', 'parents guide', 'photo sites', 'plot', 'quotes', 'recommendations', 'release dates', 'release info', 'reviews', 'sound clips', 'soundtrack', 'synopsis', 'taglines', 'technical', 'trivia', 'tv schedule', 'video clips', 'vote details']\n",
      "['tech']\n",
      "{'runtime': ['2 hr 16 min (136 min)'], 'sound mix': ['DTS (Digital DTS Sound)', 'Dolby Digital', 'SDDS', 'Dolby Atmos'], 'color': ['Color'], 'aspect ratio': ['2.39 : 1'], 'camera': ['Arriflex 435, Panavision Primo Lenses', 'Panavision Panaflex Platinum, Panavision Primo Lenses', 'Panavision Panastar, Panavision Primo Lenses', 'Photosonics Camera'], 'laboratory': ['Technicolor, Hollywood (CA), USA (prints)', 'Atlab Film Laboratory Service, Sydney, Australia (color)'], 'film length': ['3,735 m (Sweden)'], 'negative format': ['35 mm (also horizontal) (Kodak Vision 200T 5274, Vision 500T 5279, Vision 800T 5289)'], 'cinematographic process': ['Super 35', 'VistaVision (effects shots)'], 'printed film format': ['35 mm (anamorphic) (Kodak Vision 2383)']}\n"
     ]
    }
   ],
   "source": [
    "from imdb import IMDb\n",
    "\n",
    "# create an instance of the IMDb class\n",
    "ia = IMDb()\n",
    "\n",
    "# get a movie and print its director(s)\n",
    "the_matrix = ia.get_movie('0133093')\n",
    "for director in the_matrix['directors']:\n",
    "    print(director['name'])\n",
    "\n",
    "# show all information that are currently available for a movie\n",
    "print(sorted(the_matrix.keys()))\n",
    "\n",
    "# show all information sets that can be fetched for a movie\n",
    "print(ia.get_movie_infoset())\n",
    "\n",
    "# update a Movie object with more information\n",
    "ia.update(the_matrix, ['technical'])\n",
    "# show which keys were added by the information set\n",
    "print(the_matrix.infoset2keys['technical'])\n",
    "# print one of the new keys\n",
    "print(the_matrix.get('tech'))"
   ]
  },
  {
   "cell_type": "code",
   "execution_count": 13,
   "metadata": {},
   "outputs": [
    {
     "output_type": "stream",
     "name": "stdout",
     "text": [
      "Directors:\n",
      "Lana Wachowski\n",
      "Lilly Wachowski\n",
      "Genres:\n",
      "Action\n",
      "Sci-Fi\n",
      "0000154 Mel Gibson\n",
      "2153167 Mel Gibson\n",
      "0317112 Mel Gibson\n",
      "3323885 Adam Taylor\n",
      "2800055 Mel Gibson\n",
      "3742421 Melina Mari Bryant   nickname\n",
      "0317195 Terel Gibson\n",
      "0316878 Cal Gibson\n",
      "0316945 Donal Gibson\n",
      "4047961 Noel Gibson\n",
      "2106809 Raquel Gibson\n",
      "3912400 Jamel Gibson\n",
      "0316950 E.L. Gibson\n",
      "2798174 Daniel Gibson\n",
      "1812763 Rachel Gibson\n",
      "0316915 Daniel Gibson\n",
      "2988370 Mal Gibson\n",
      "7454542 L. Gibson\n",
      "6928816 Christel Gibson\n",
      "0316932 Dean Paul Gibson\n"
     ]
    }
   ],
   "source": [
    "from imdb import IMDb\n",
    "\n",
    "# create an instance of the IMDb class\n",
    "ia = IMDb()\n",
    "\n",
    "# get a movie\n",
    "movie = ia.get_movie('0133093')\n",
    "\n",
    "# print the names of the directors of the movie\n",
    "print('Directors:')\n",
    "for director in movie['directors']:\n",
    "    print(director['name'])\n",
    "\n",
    "# print the genres of the movie\n",
    "print('Genres:')\n",
    "for genre in movie['genres']:\n",
    "    print(genre)\n",
    "\n",
    "# search for a person name\n",
    "people = ia.search_person('Mel Gibson')\n",
    "for person in people:\n",
    "   print(person.personID, person['name'])"
   ]
  },
  {
   "cell_type": "code",
   "execution_count": 24,
   "metadata": {},
   "outputs": [
    {
     "output_type": "error",
     "ename": "SyntaxError",
     "evalue": "invalid syntax (<ipython-input-24-0b82310a05f1>, line 3)",
     "traceback": [
      "\u001b[0;36m  File \u001b[0;32m\"<ipython-input-24-0b82310a05f1>\"\u001b[0;36m, line \u001b[0;32m3\u001b[0m\n\u001b[0;31m    r = requests.get(https://www.imdb.com/) # where url is the above url\u001b[0m\n\u001b[0m                          ^\u001b[0m\n\u001b[0;31mSyntaxError\u001b[0m\u001b[0;31m:\u001b[0m invalid syntax\n"
     ]
    }
   ],
   "source": [
    "from bs4 import BeautifulSoup\n",
    "\n",
    "r = requests.get(https://www.imdb.com/) # where url is the above url    \n",
    "\n",
    "bs = BeautifulSoup(r.text)\n",
    "for movie in bs.findAll('td','title'):\n",
    "    title = movie.find('a').contents[0]\n",
    "    genres = movie.find('span','genre').findAll('a')\n",
    "    genres = [g.contents[0] for g in genres]\n",
    "    runtime = movie.find('span','runtime').contents[0]\n",
    "    rating = movie.find('span','value').contents[0]\n",
    "    year = movie.find('span','year_type').contents[0]\n",
    "    imdbID = movie.find('span','rating-cancel').a['href'].split('/')[2]\n",
    "    print (title, genres,runtime, rating, year, imdbID)"
   ]
  },
  {
   "cell_type": "code",
   "execution_count": 31,
   "metadata": {},
   "outputs": [],
   "source": [
    "import pandas as pd\n",
    "import numpy as np\n",
    "\n",
    "import requests\n",
    "from requests import get\n",
    "from bs4 import BeautifulSoup\n",
    "\n",
    "from time import sleep\n",
    "from random import randint"
   ]
  },
  {
   "cell_type": "code",
   "execution_count": 32,
   "metadata": {},
   "outputs": [],
   "source": [
    "# Creating the lists we want to write into\n",
    "titles = []\n",
    "years = []\n",
    "time = []\n",
    "imdb_ratings = []\n",
    "metascores = []\n",
    "votes = []\n",
    "us_gross = []\n",
    "# run_time = []"
   ]
  },
  {
   "cell_type": "code",
   "execution_count": 33,
   "metadata": {},
   "outputs": [],
   "source": [
    "# Getting English translated titles from the movies\n",
    "headers = {'Accept-Language': 'en-US, en;q=0.5'}"
   ]
  },
  {
   "cell_type": "code",
   "execution_count": 39,
   "metadata": {},
   "outputs": [
    {
     "output_type": "execute_result",
     "data": {
      "text/plain": [
       "array([    1,     2,     3, ..., 14997, 14998, 14999])"
      ]
     },
     "metadata": {},
     "execution_count": 39
    }
   ],
   "source": [
    "\n",
    "pages = np.arange(1, 15000)\n",
    "pages"
   ]
  },
  {
   "cell_type": "code",
   "execution_count": 40,
   "metadata": {},
   "outputs": [
    {
     "output_type": "error",
     "ename": "KeyboardInterrupt",
     "evalue": "",
     "traceback": [
      "\u001b[0;31m---------------------------------------------------------------------------\u001b[0m",
      "\u001b[0;31mKeyboardInterrupt\u001b[0m                         Traceback (most recent call last)",
      "\u001b[0;32m<ipython-input-40-5183b733fa64>\u001b[0m in \u001b[0;36m<module>\u001b[0;34m()\u001b[0m\n\u001b[1;32m      3\u001b[0m     \u001b[0;31m# Getting the contents from the each url\u001b[0m\u001b[0;34m\u001b[0m\u001b[0;34m\u001b[0m\u001b[0;34m\u001b[0m\u001b[0m\n\u001b[1;32m      4\u001b[0m     \u001b[0mpage\u001b[0m \u001b[0;34m=\u001b[0m \u001b[0mrequests\u001b[0m\u001b[0;34m.\u001b[0m\u001b[0mget\u001b[0m\u001b[0;34m(\u001b[0m\u001b[0;34m'https://www.imdb.com/search/title/?groups=top_1000&start='\u001b[0m \u001b[0;34m+\u001b[0m \u001b[0mstr\u001b[0m\u001b[0;34m(\u001b[0m\u001b[0mpage\u001b[0m\u001b[0;34m)\u001b[0m \u001b[0;34m+\u001b[0m \u001b[0;34m'&ref_=adv_nxt'\u001b[0m\u001b[0;34m,\u001b[0m \u001b[0mheaders\u001b[0m\u001b[0;34m=\u001b[0m\u001b[0mheaders\u001b[0m\u001b[0;34m)\u001b[0m\u001b[0;34m\u001b[0m\u001b[0;34m\u001b[0m\u001b[0m\n\u001b[0;32m----> 5\u001b[0;31m     \u001b[0msoup\u001b[0m \u001b[0;34m=\u001b[0m \u001b[0mBeautifulSoup\u001b[0m\u001b[0;34m(\u001b[0m\u001b[0mpage\u001b[0m\u001b[0;34m.\u001b[0m\u001b[0mtext\u001b[0m\u001b[0;34m,\u001b[0m \u001b[0;34m'html.parser'\u001b[0m\u001b[0;34m)\u001b[0m\u001b[0;34m\u001b[0m\u001b[0;34m\u001b[0m\u001b[0m\n\u001b[0m\u001b[1;32m      6\u001b[0m \u001b[0;34m\u001b[0m\u001b[0m\n\u001b[1;32m      7\u001b[0m     \u001b[0;31m# Aiming the part of the html we want to get the information from\u001b[0m\u001b[0;34m\u001b[0m\u001b[0;34m\u001b[0m\u001b[0;34m\u001b[0m\u001b[0m\n",
      "\u001b[0;32m/home/gordon/anaconda3/lib/python3.7/site-packages/bs4/__init__.py\u001b[0m in \u001b[0;36m__init__\u001b[0;34m(self, markup, features, builder, parse_only, from_encoding, exclude_encodings, element_classes, **kwargs)\u001b[0m\n\u001b[1;32m    343\u001b[0m             \u001b[0mself\u001b[0m\u001b[0;34m.\u001b[0m\u001b[0mreset\u001b[0m\u001b[0;34m(\u001b[0m\u001b[0;34m)\u001b[0m\u001b[0;34m\u001b[0m\u001b[0;34m\u001b[0m\u001b[0m\n\u001b[1;32m    344\u001b[0m             \u001b[0;32mtry\u001b[0m\u001b[0;34m:\u001b[0m\u001b[0;34m\u001b[0m\u001b[0;34m\u001b[0m\u001b[0m\n\u001b[0;32m--> 345\u001b[0;31m                 \u001b[0mself\u001b[0m\u001b[0;34m.\u001b[0m\u001b[0m_feed\u001b[0m\u001b[0;34m(\u001b[0m\u001b[0;34m)\u001b[0m\u001b[0;34m\u001b[0m\u001b[0;34m\u001b[0m\u001b[0m\n\u001b[0m\u001b[1;32m    346\u001b[0m                 \u001b[0msuccess\u001b[0m \u001b[0;34m=\u001b[0m \u001b[0;32mTrue\u001b[0m\u001b[0;34m\u001b[0m\u001b[0;34m\u001b[0m\u001b[0m\n\u001b[1;32m    347\u001b[0m                 \u001b[0;32mbreak\u001b[0m\u001b[0;34m\u001b[0m\u001b[0;34m\u001b[0m\u001b[0m\n",
      "\u001b[0;32m/home/gordon/anaconda3/lib/python3.7/site-packages/bs4/__init__.py\u001b[0m in \u001b[0;36m_feed\u001b[0;34m(self)\u001b[0m\n\u001b[1;32m    429\u001b[0m         \u001b[0mself\u001b[0m\u001b[0;34m.\u001b[0m\u001b[0mbuilder\u001b[0m\u001b[0;34m.\u001b[0m\u001b[0mreset\u001b[0m\u001b[0;34m(\u001b[0m\u001b[0;34m)\u001b[0m\u001b[0;34m\u001b[0m\u001b[0;34m\u001b[0m\u001b[0m\n\u001b[1;32m    430\u001b[0m \u001b[0;34m\u001b[0m\u001b[0m\n\u001b[0;32m--> 431\u001b[0;31m         \u001b[0mself\u001b[0m\u001b[0;34m.\u001b[0m\u001b[0mbuilder\u001b[0m\u001b[0;34m.\u001b[0m\u001b[0mfeed\u001b[0m\u001b[0;34m(\u001b[0m\u001b[0mself\u001b[0m\u001b[0;34m.\u001b[0m\u001b[0mmarkup\u001b[0m\u001b[0;34m)\u001b[0m\u001b[0;34m\u001b[0m\u001b[0;34m\u001b[0m\u001b[0m\n\u001b[0m\u001b[1;32m    432\u001b[0m         \u001b[0;31m# Close out any unfinished strings and close all the open tags.\u001b[0m\u001b[0;34m\u001b[0m\u001b[0;34m\u001b[0m\u001b[0;34m\u001b[0m\u001b[0m\n\u001b[1;32m    433\u001b[0m         \u001b[0mself\u001b[0m\u001b[0;34m.\u001b[0m\u001b[0mendData\u001b[0m\u001b[0;34m(\u001b[0m\u001b[0;34m)\u001b[0m\u001b[0;34m\u001b[0m\u001b[0;34m\u001b[0m\u001b[0m\n",
      "\u001b[0;32m/home/gordon/anaconda3/lib/python3.7/site-packages/bs4/builder/_htmlparser.py\u001b[0m in \u001b[0;36mfeed\u001b[0;34m(self, markup)\u001b[0m\n\u001b[1;32m    375\u001b[0m         \u001b[0mparser\u001b[0m\u001b[0;34m.\u001b[0m\u001b[0msoup\u001b[0m \u001b[0;34m=\u001b[0m \u001b[0mself\u001b[0m\u001b[0;34m.\u001b[0m\u001b[0msoup\u001b[0m\u001b[0;34m\u001b[0m\u001b[0;34m\u001b[0m\u001b[0m\n\u001b[1;32m    376\u001b[0m         \u001b[0;32mtry\u001b[0m\u001b[0;34m:\u001b[0m\u001b[0;34m\u001b[0m\u001b[0;34m\u001b[0m\u001b[0m\n\u001b[0;32m--> 377\u001b[0;31m             \u001b[0mparser\u001b[0m\u001b[0;34m.\u001b[0m\u001b[0mfeed\u001b[0m\u001b[0;34m(\u001b[0m\u001b[0mmarkup\u001b[0m\u001b[0;34m)\u001b[0m\u001b[0;34m\u001b[0m\u001b[0;34m\u001b[0m\u001b[0m\n\u001b[0m\u001b[1;32m    378\u001b[0m             \u001b[0mparser\u001b[0m\u001b[0;34m.\u001b[0m\u001b[0mclose\u001b[0m\u001b[0;34m(\u001b[0m\u001b[0;34m)\u001b[0m\u001b[0;34m\u001b[0m\u001b[0;34m\u001b[0m\u001b[0m\n\u001b[1;32m    379\u001b[0m         \u001b[0;32mexcept\u001b[0m \u001b[0mHTMLParseError\u001b[0m \u001b[0;32mas\u001b[0m \u001b[0me\u001b[0m\u001b[0;34m:\u001b[0m\u001b[0;34m\u001b[0m\u001b[0;34m\u001b[0m\u001b[0m\n",
      "\u001b[0;32m/home/gordon/anaconda3/lib/python3.7/html/parser.py\u001b[0m in \u001b[0;36mfeed\u001b[0;34m(self, data)\u001b[0m\n\u001b[1;32m    109\u001b[0m         \"\"\"\n\u001b[1;32m    110\u001b[0m         \u001b[0mself\u001b[0m\u001b[0;34m.\u001b[0m\u001b[0mrawdata\u001b[0m \u001b[0;34m=\u001b[0m \u001b[0mself\u001b[0m\u001b[0;34m.\u001b[0m\u001b[0mrawdata\u001b[0m \u001b[0;34m+\u001b[0m \u001b[0mdata\u001b[0m\u001b[0;34m\u001b[0m\u001b[0;34m\u001b[0m\u001b[0m\n\u001b[0;32m--> 111\u001b[0;31m         \u001b[0mself\u001b[0m\u001b[0;34m.\u001b[0m\u001b[0mgoahead\u001b[0m\u001b[0;34m(\u001b[0m\u001b[0;36m0\u001b[0m\u001b[0;34m)\u001b[0m\u001b[0;34m\u001b[0m\u001b[0;34m\u001b[0m\u001b[0m\n\u001b[0m\u001b[1;32m    112\u001b[0m \u001b[0;34m\u001b[0m\u001b[0m\n\u001b[1;32m    113\u001b[0m     \u001b[0;32mdef\u001b[0m \u001b[0mclose\u001b[0m\u001b[0;34m(\u001b[0m\u001b[0mself\u001b[0m\u001b[0;34m)\u001b[0m\u001b[0;34m:\u001b[0m\u001b[0;34m\u001b[0m\u001b[0;34m\u001b[0m\u001b[0m\n",
      "\u001b[0;32m/home/gordon/anaconda3/lib/python3.7/html/parser.py\u001b[0m in \u001b[0;36mgoahead\u001b[0;34m(self, end)\u001b[0m\n\u001b[1;32m    169\u001b[0m             \u001b[0;32mif\u001b[0m \u001b[0mstartswith\u001b[0m\u001b[0;34m(\u001b[0m\u001b[0;34m'<'\u001b[0m\u001b[0;34m,\u001b[0m \u001b[0mi\u001b[0m\u001b[0;34m)\u001b[0m\u001b[0;34m:\u001b[0m\u001b[0;34m\u001b[0m\u001b[0;34m\u001b[0m\u001b[0m\n\u001b[1;32m    170\u001b[0m                 \u001b[0;32mif\u001b[0m \u001b[0mstarttagopen\u001b[0m\u001b[0;34m.\u001b[0m\u001b[0mmatch\u001b[0m\u001b[0;34m(\u001b[0m\u001b[0mrawdata\u001b[0m\u001b[0;34m,\u001b[0m \u001b[0mi\u001b[0m\u001b[0;34m)\u001b[0m\u001b[0;34m:\u001b[0m \u001b[0;31m# < + letter\u001b[0m\u001b[0;34m\u001b[0m\u001b[0;34m\u001b[0m\u001b[0m\n\u001b[0;32m--> 171\u001b[0;31m                     \u001b[0mk\u001b[0m \u001b[0;34m=\u001b[0m \u001b[0mself\u001b[0m\u001b[0;34m.\u001b[0m\u001b[0mparse_starttag\u001b[0m\u001b[0;34m(\u001b[0m\u001b[0mi\u001b[0m\u001b[0;34m)\u001b[0m\u001b[0;34m\u001b[0m\u001b[0;34m\u001b[0m\u001b[0m\n\u001b[0m\u001b[1;32m    172\u001b[0m                 \u001b[0;32melif\u001b[0m \u001b[0mstartswith\u001b[0m\u001b[0;34m(\u001b[0m\u001b[0;34m\"</\"\u001b[0m\u001b[0;34m,\u001b[0m \u001b[0mi\u001b[0m\u001b[0;34m)\u001b[0m\u001b[0;34m:\u001b[0m\u001b[0;34m\u001b[0m\u001b[0;34m\u001b[0m\u001b[0m\n\u001b[1;32m    173\u001b[0m                     \u001b[0mk\u001b[0m \u001b[0;34m=\u001b[0m \u001b[0mself\u001b[0m\u001b[0;34m.\u001b[0m\u001b[0mparse_endtag\u001b[0m\u001b[0;34m(\u001b[0m\u001b[0mi\u001b[0m\u001b[0;34m)\u001b[0m\u001b[0;34m\u001b[0m\u001b[0;34m\u001b[0m\u001b[0m\n",
      "\u001b[0;32m/home/gordon/anaconda3/lib/python3.7/html/parser.py\u001b[0m in \u001b[0;36mparse_starttag\u001b[0;34m(self, i)\u001b[0m\n\u001b[1;32m    317\u001b[0m             \u001b[0;32mif\u001b[0m \u001b[0;32mnot\u001b[0m \u001b[0mm\u001b[0m\u001b[0;34m:\u001b[0m\u001b[0;34m\u001b[0m\u001b[0;34m\u001b[0m\u001b[0m\n\u001b[1;32m    318\u001b[0m                 \u001b[0;32mbreak\u001b[0m\u001b[0;34m\u001b[0m\u001b[0;34m\u001b[0m\u001b[0m\n\u001b[0;32m--> 319\u001b[0;31m             \u001b[0mattrname\u001b[0m\u001b[0;34m,\u001b[0m \u001b[0mrest\u001b[0m\u001b[0;34m,\u001b[0m \u001b[0mattrvalue\u001b[0m \u001b[0;34m=\u001b[0m \u001b[0mm\u001b[0m\u001b[0;34m.\u001b[0m\u001b[0mgroup\u001b[0m\u001b[0;34m(\u001b[0m\u001b[0;36m1\u001b[0m\u001b[0;34m,\u001b[0m \u001b[0;36m2\u001b[0m\u001b[0;34m,\u001b[0m \u001b[0;36m3\u001b[0m\u001b[0;34m)\u001b[0m\u001b[0;34m\u001b[0m\u001b[0;34m\u001b[0m\u001b[0m\n\u001b[0m\u001b[1;32m    320\u001b[0m             \u001b[0;32mif\u001b[0m \u001b[0;32mnot\u001b[0m \u001b[0mrest\u001b[0m\u001b[0;34m:\u001b[0m\u001b[0;34m\u001b[0m\u001b[0;34m\u001b[0m\u001b[0m\n\u001b[1;32m    321\u001b[0m                 \u001b[0mattrvalue\u001b[0m \u001b[0;34m=\u001b[0m \u001b[0;32mNone\u001b[0m\u001b[0;34m\u001b[0m\u001b[0;34m\u001b[0m\u001b[0m\n",
      "\u001b[0;31mKeyboardInterrupt\u001b[0m: "
     ]
    }
   ],
   "source": [
    "# Storing each of the urls of 50 movies \n",
    "for page in pages:\n",
    "    # Getting the contents from the each url\n",
    "    page = requests.get('https://www.imdb.com/search/title/?groups=top_1000&start=' + str(page) + '&ref_=adv_nxt', headers=headers)\n",
    "    soup = BeautifulSoup(page.text, 'html.parser')\n",
    "    \n",
    "    # Aiming the part of the html we want to get the information from\n",
    "    movie_div = soup.find_all('div', class_='lister-item mode-advanced')\n",
    "    \n",
    "    # Controling the loop’s rate by pausing the execution of the loop for a specified amount of time\n",
    "    # Waiting time between requests for a number between 2-10 seconds\n",
    "    sleep(randint(2,10))\n",
    "    \n",
    "    for container in movie_div:\n",
    "        # Scraping the movie's name\n",
    "        name = container.h3.a.text\n",
    "        titles.append(name)\n",
    "        \n",
    "        # Scraping the movie's year\n",
    "        year = container.h3.find('span', class_='lister-item-year').text\n",
    "        years.append(year)\n",
    "        \n",
    "        # Scraping the movie's length\n",
    "        runtime = container.find('span', class_='runtime').text if container.p.find('span', class_='runtime') else '-'\n",
    "        time.append(runtime)\n",
    "        \n",
    "        # Scraping the rating\n",
    "        imdb = float(container.strong.text)\n",
    "        imdb_ratings.append(imdb)\n",
    "        \n",
    "        # Scraping the metascore\n",
    "        m_score = container.find('span', class_='metascore').text if container.find('span', class_='metascore') else '-'\n",
    "        metascores.append(m_score)\n",
    "        \n",
    "        # Scraping votes and gross earnings\n",
    "        nv = container.find_all('span', attrs={'name':'nv'})\n",
    "        vote = nv[0].text\n",
    "        votes.append(vote)\n",
    "        grosses = nv[1].text if len(nv) > 1 else '-'\n",
    "        us_gross.append(grosses)"
   ]
  },
  {
   "cell_type": "code",
   "execution_count": 43,
   "metadata": {},
   "outputs": [
    {
     "output_type": "execute_result",
     "data": {
      "text/plain": [
       "           movie    year time_minute  imdb_rating   metascore       vote  \\\n",
       "0          Tenet  (2020)     150 min          7.7  69            187,859   \n",
       "1     Home Alone  (1990)     103 min          7.6  63            464,506   \n",
       "2      Inception  (2010)     148 min          8.8  74          2,041,409   \n",
       "3  The Gentlemen  (2019)     113 min          7.8  51            212,832   \n",
       "4           1917  (2019)     119 min          8.3  78            399,001   \n",
       "\n",
       "  gross_earning  \n",
       "0       $53.80M  \n",
       "1      $285.76M  \n",
       "2      $292.58M  \n",
       "3             -  \n",
       "4      $159.23M  "
      ],
      "text/html": "<div>\n<style scoped>\n    .dataframe tbody tr th:only-of-type {\n        vertical-align: middle;\n    }\n\n    .dataframe tbody tr th {\n        vertical-align: top;\n    }\n\n    .dataframe thead th {\n        text-align: right;\n    }\n</style>\n<table border=\"1\" class=\"dataframe\">\n  <thead>\n    <tr style=\"text-align: right;\">\n      <th></th>\n      <th>movie</th>\n      <th>year</th>\n      <th>time_minute</th>\n      <th>imdb_rating</th>\n      <th>metascore</th>\n      <th>vote</th>\n      <th>gross_earning</th>\n    </tr>\n  </thead>\n  <tbody>\n    <tr>\n      <th>0</th>\n      <td>Tenet</td>\n      <td>(2020)</td>\n      <td>150 min</td>\n      <td>7.7</td>\n      <td>69</td>\n      <td>187,859</td>\n      <td>$53.80M</td>\n    </tr>\n    <tr>\n      <th>1</th>\n      <td>Home Alone</td>\n      <td>(1990)</td>\n      <td>103 min</td>\n      <td>7.6</td>\n      <td>63</td>\n      <td>464,506</td>\n      <td>$285.76M</td>\n    </tr>\n    <tr>\n      <th>2</th>\n      <td>Inception</td>\n      <td>(2010)</td>\n      <td>148 min</td>\n      <td>8.8</td>\n      <td>74</td>\n      <td>2,041,409</td>\n      <td>$292.58M</td>\n    </tr>\n    <tr>\n      <th>3</th>\n      <td>The Gentlemen</td>\n      <td>(2019)</td>\n      <td>113 min</td>\n      <td>7.8</td>\n      <td>51</td>\n      <td>212,832</td>\n      <td>-</td>\n    </tr>\n    <tr>\n      <th>4</th>\n      <td>1917</td>\n      <td>(2019)</td>\n      <td>119 min</td>\n      <td>8.3</td>\n      <td>78</td>\n      <td>399,001</td>\n      <td>$159.23M</td>\n    </tr>\n  </tbody>\n</table>\n</div>"
     },
     "metadata": {},
     "execution_count": 43
    }
   ],
   "source": [
    "movies = pd.DataFrame({'movie':titles,\n",
    "                       'year':years,\n",
    "                       'time_minute':time,\n",
    "                       'imdb_rating':imdb_ratings,\n",
    "                       'metascore':metascores,\n",
    "                       'vote':votes,\n",
    "                       'gross_earning':us_gross})\n",
    "\n",
    "movies.head()"
   ]
  },
  {
   "cell_type": "code",
   "execution_count": 44,
   "metadata": {},
   "outputs": [
    {
     "output_type": "execute_result",
     "data": {
      "text/plain": [
       "                                  movie    year time_minute  imdb_rating  \\\n",
       "0                                 Tenet  (2020)     150 min          7.7   \n",
       "1                            Home Alone  (1990)     103 min          7.6   \n",
       "2                             Inception  (2010)     148 min          8.8   \n",
       "3                         The Gentlemen  (2019)     113 min          7.8   \n",
       "4                                  1917  (2019)     119 min          8.3   \n",
       "...                                 ...     ...         ...          ...   \n",
       "34495                       Waking Life  (2001)      99 min          7.8   \n",
       "34496             Thank You for Smoking  (2005)      92 min          7.6   \n",
       "34497  The Treasure of the Sierra Madre  (1948)     126 min          8.2   \n",
       "34498  What Ever Happened to Baby Jane?  (1962)     134 min          8.1   \n",
       "34499                 The Lady Vanishes  (1938)      96 min          7.8   \n",
       "\n",
       "        metascore       vote gross_earning  \n",
       "0      69            187,859       $53.80M  \n",
       "1      63            464,506      $285.76M  \n",
       "2      74          2,041,409      $292.58M  \n",
       "3      51            212,832             -  \n",
       "4      78            399,001      $159.23M  \n",
       "...           ...        ...           ...  \n",
       "34495  83             60,393        $2.89M  \n",
       "34496  71            212,142       $24.79M  \n",
       "34497  98            113,271        $5.01M  \n",
       "34498  75             49,717        $4.05M  \n",
       "34499           -     46,938             -  \n",
       "\n",
       "[34500 rows x 7 columns]"
      ],
      "text/html": "<div>\n<style scoped>\n    .dataframe tbody tr th:only-of-type {\n        vertical-align: middle;\n    }\n\n    .dataframe tbody tr th {\n        vertical-align: top;\n    }\n\n    .dataframe thead th {\n        text-align: right;\n    }\n</style>\n<table border=\"1\" class=\"dataframe\">\n  <thead>\n    <tr style=\"text-align: right;\">\n      <th></th>\n      <th>movie</th>\n      <th>year</th>\n      <th>time_minute</th>\n      <th>imdb_rating</th>\n      <th>metascore</th>\n      <th>vote</th>\n      <th>gross_earning</th>\n    </tr>\n  </thead>\n  <tbody>\n    <tr>\n      <th>0</th>\n      <td>Tenet</td>\n      <td>(2020)</td>\n      <td>150 min</td>\n      <td>7.7</td>\n      <td>69</td>\n      <td>187,859</td>\n      <td>$53.80M</td>\n    </tr>\n    <tr>\n      <th>1</th>\n      <td>Home Alone</td>\n      <td>(1990)</td>\n      <td>103 min</td>\n      <td>7.6</td>\n      <td>63</td>\n      <td>464,506</td>\n      <td>$285.76M</td>\n    </tr>\n    <tr>\n      <th>2</th>\n      <td>Inception</td>\n      <td>(2010)</td>\n      <td>148 min</td>\n      <td>8.8</td>\n      <td>74</td>\n      <td>2,041,409</td>\n      <td>$292.58M</td>\n    </tr>\n    <tr>\n      <th>3</th>\n      <td>The Gentlemen</td>\n      <td>(2019)</td>\n      <td>113 min</td>\n      <td>7.8</td>\n      <td>51</td>\n      <td>212,832</td>\n      <td>-</td>\n    </tr>\n    <tr>\n      <th>4</th>\n      <td>1917</td>\n      <td>(2019)</td>\n      <td>119 min</td>\n      <td>8.3</td>\n      <td>78</td>\n      <td>399,001</td>\n      <td>$159.23M</td>\n    </tr>\n    <tr>\n      <th>...</th>\n      <td>...</td>\n      <td>...</td>\n      <td>...</td>\n      <td>...</td>\n      <td>...</td>\n      <td>...</td>\n      <td>...</td>\n    </tr>\n    <tr>\n      <th>34495</th>\n      <td>Waking Life</td>\n      <td>(2001)</td>\n      <td>99 min</td>\n      <td>7.8</td>\n      <td>83</td>\n      <td>60,393</td>\n      <td>$2.89M</td>\n    </tr>\n    <tr>\n      <th>34496</th>\n      <td>Thank You for Smoking</td>\n      <td>(2005)</td>\n      <td>92 min</td>\n      <td>7.6</td>\n      <td>71</td>\n      <td>212,142</td>\n      <td>$24.79M</td>\n    </tr>\n    <tr>\n      <th>34497</th>\n      <td>The Treasure of the Sierra Madre</td>\n      <td>(1948)</td>\n      <td>126 min</td>\n      <td>8.2</td>\n      <td>98</td>\n      <td>113,271</td>\n      <td>$5.01M</td>\n    </tr>\n    <tr>\n      <th>34498</th>\n      <td>What Ever Happened to Baby Jane?</td>\n      <td>(1962)</td>\n      <td>134 min</td>\n      <td>8.1</td>\n      <td>75</td>\n      <td>49,717</td>\n      <td>$4.05M</td>\n    </tr>\n    <tr>\n      <th>34499</th>\n      <td>The Lady Vanishes</td>\n      <td>(1938)</td>\n      <td>96 min</td>\n      <td>7.8</td>\n      <td>-</td>\n      <td>46,938</td>\n      <td>-</td>\n    </tr>\n  </tbody>\n</table>\n<p>34500 rows × 7 columns</p>\n</div>"
     },
     "metadata": {},
     "execution_count": 44
    }
   ],
   "source": [
    "movies"
   ]
  },
  {
   "cell_type": "code",
   "execution_count": 47,
   "metadata": {},
   "outputs": [
    {
     "output_type": "execute_result",
     "data": {
      "text/plain": [
       "                                  movie    year time_minute  imdb_rating  \\\n",
       "0                                 Tenet  (2020)     150 min          7.7   \n",
       "1                            Home Alone  (1990)     103 min          7.6   \n",
       "2                             Inception  (2010)     148 min          8.8   \n",
       "3                         The Gentlemen  (2019)     113 min          7.8   \n",
       "4                                  1917  (2019)     119 min          8.3   \n",
       "...                                 ...     ...         ...          ...   \n",
       "34495                       Waking Life  (2001)      99 min          7.8   \n",
       "34496             Thank You for Smoking  (2005)      92 min          7.6   \n",
       "34497  The Treasure of the Sierra Madre  (1948)     126 min          8.2   \n",
       "34498  What Ever Happened to Baby Jane?  (1962)     134 min          8.1   \n",
       "34499                 The Lady Vanishes  (1938)      96 min          7.8   \n",
       "\n",
       "        metascore       vote gross_earning  ourRating  \n",
       "0      69            187,859       $53.80M       3.85  \n",
       "1      63            464,506      $285.76M       3.80  \n",
       "2      74          2,041,409      $292.58M       4.40  \n",
       "3      51            212,832             -       3.90  \n",
       "4      78            399,001      $159.23M       4.15  \n",
       "...           ...        ...           ...        ...  \n",
       "34495  83             60,393        $2.89M       3.90  \n",
       "34496  71            212,142       $24.79M       3.80  \n",
       "34497  98            113,271        $5.01M       4.10  \n",
       "34498  75             49,717        $4.05M       4.05  \n",
       "34499           -     46,938             -       3.90  \n",
       "\n",
       "[34500 rows x 8 columns]"
      ],
      "text/html": "<div>\n<style scoped>\n    .dataframe tbody tr th:only-of-type {\n        vertical-align: middle;\n    }\n\n    .dataframe tbody tr th {\n        vertical-align: top;\n    }\n\n    .dataframe thead th {\n        text-align: right;\n    }\n</style>\n<table border=\"1\" class=\"dataframe\">\n  <thead>\n    <tr style=\"text-align: right;\">\n      <th></th>\n      <th>movie</th>\n      <th>year</th>\n      <th>time_minute</th>\n      <th>imdb_rating</th>\n      <th>metascore</th>\n      <th>vote</th>\n      <th>gross_earning</th>\n      <th>ourRating</th>\n    </tr>\n  </thead>\n  <tbody>\n    <tr>\n      <th>0</th>\n      <td>Tenet</td>\n      <td>(2020)</td>\n      <td>150 min</td>\n      <td>7.7</td>\n      <td>69</td>\n      <td>187,859</td>\n      <td>$53.80M</td>\n      <td>3.85</td>\n    </tr>\n    <tr>\n      <th>1</th>\n      <td>Home Alone</td>\n      <td>(1990)</td>\n      <td>103 min</td>\n      <td>7.6</td>\n      <td>63</td>\n      <td>464,506</td>\n      <td>$285.76M</td>\n      <td>3.80</td>\n    </tr>\n    <tr>\n      <th>2</th>\n      <td>Inception</td>\n      <td>(2010)</td>\n      <td>148 min</td>\n      <td>8.8</td>\n      <td>74</td>\n      <td>2,041,409</td>\n      <td>$292.58M</td>\n      <td>4.40</td>\n    </tr>\n    <tr>\n      <th>3</th>\n      <td>The Gentlemen</td>\n      <td>(2019)</td>\n      <td>113 min</td>\n      <td>7.8</td>\n      <td>51</td>\n      <td>212,832</td>\n      <td>-</td>\n      <td>3.90</td>\n    </tr>\n    <tr>\n      <th>4</th>\n      <td>1917</td>\n      <td>(2019)</td>\n      <td>119 min</td>\n      <td>8.3</td>\n      <td>78</td>\n      <td>399,001</td>\n      <td>$159.23M</td>\n      <td>4.15</td>\n    </tr>\n    <tr>\n      <th>...</th>\n      <td>...</td>\n      <td>...</td>\n      <td>...</td>\n      <td>...</td>\n      <td>...</td>\n      <td>...</td>\n      <td>...</td>\n      <td>...</td>\n    </tr>\n    <tr>\n      <th>34495</th>\n      <td>Waking Life</td>\n      <td>(2001)</td>\n      <td>99 min</td>\n      <td>7.8</td>\n      <td>83</td>\n      <td>60,393</td>\n      <td>$2.89M</td>\n      <td>3.90</td>\n    </tr>\n    <tr>\n      <th>34496</th>\n      <td>Thank You for Smoking</td>\n      <td>(2005)</td>\n      <td>92 min</td>\n      <td>7.6</td>\n      <td>71</td>\n      <td>212,142</td>\n      <td>$24.79M</td>\n      <td>3.80</td>\n    </tr>\n    <tr>\n      <th>34497</th>\n      <td>The Treasure of the Sierra Madre</td>\n      <td>(1948)</td>\n      <td>126 min</td>\n      <td>8.2</td>\n      <td>98</td>\n      <td>113,271</td>\n      <td>$5.01M</td>\n      <td>4.10</td>\n    </tr>\n    <tr>\n      <th>34498</th>\n      <td>What Ever Happened to Baby Jane?</td>\n      <td>(1962)</td>\n      <td>134 min</td>\n      <td>8.1</td>\n      <td>75</td>\n      <td>49,717</td>\n      <td>$4.05M</td>\n      <td>4.05</td>\n    </tr>\n    <tr>\n      <th>34499</th>\n      <td>The Lady Vanishes</td>\n      <td>(1938)</td>\n      <td>96 min</td>\n      <td>7.8</td>\n      <td>-</td>\n      <td>46,938</td>\n      <td>-</td>\n      <td>3.90</td>\n    </tr>\n  </tbody>\n</table>\n<p>34500 rows × 8 columns</p>\n</div>"
     },
     "metadata": {},
     "execution_count": 47
    }
   ],
   "source": [
    "movies['ourRating'] = movies.imdb_rating / 2\n",
    "movies"
   ]
  },
  {
   "cell_type": "code",
   "execution_count": null,
   "metadata": {},
   "outputs": [],
   "source": []
  }
 ]
}