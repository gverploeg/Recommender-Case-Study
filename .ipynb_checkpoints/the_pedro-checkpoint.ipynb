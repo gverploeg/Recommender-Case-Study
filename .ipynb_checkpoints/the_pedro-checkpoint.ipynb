{
 "cells": [
  {
   "cell_type": "code",
   "execution_count": 98,
   "metadata": {},
   "outputs": [
    {
     "ename": "ModuleNotFoundError",
     "evalue": "No module named 'src'",
     "output_type": "error",
     "traceback": [
      "\u001b[0;31m---------------------------------------------------------------------------\u001b[0m",
      "\u001b[0;31mModuleNotFoundError\u001b[0m                       Traceback (most recent call last)",
      "\u001b[0;32m<ipython-input-98-8092d4750bfb>\u001b[0m in \u001b[0;36m<module>\u001b[0;34m\u001b[0m\n\u001b[1;32m     15\u001b[0m \u001b[0;34m\u001b[0m\u001b[0m\n\u001b[1;32m     16\u001b[0m \u001b[0;32mfrom\u001b[0m \u001b[0mscipy\u001b[0m\u001b[0;34m.\u001b[0m\u001b[0msparse\u001b[0m \u001b[0;32mimport\u001b[0m \u001b[0mcsr_matrix\u001b[0m\u001b[0;34m\u001b[0m\u001b[0;34m\u001b[0m\u001b[0m\n\u001b[0;32m---> 17\u001b[0;31m \u001b[0;32mfrom\u001b[0m \u001b[0msrc\u001b[0m\u001b[0;34m.\u001b[0m\u001b[0mItemItemRecommender\u001b[0m \u001b[0;32mimport\u001b[0m \u001b[0mItemItemRecommender\u001b[0m\u001b[0;34m\u001b[0m\u001b[0;34m\u001b[0m\u001b[0m\n\u001b[0m\u001b[1;32m     18\u001b[0m \u001b[0;32mfrom\u001b[0m \u001b[0msklearn\u001b[0m\u001b[0;34m.\u001b[0m\u001b[0mmodel_selection\u001b[0m \u001b[0;32mimport\u001b[0m \u001b[0mtrain_test_split\u001b[0m\u001b[0;34m\u001b[0m\u001b[0;34m\u001b[0m\u001b[0m\n\u001b[1;32m     19\u001b[0m \u001b[0;32mfrom\u001b[0m \u001b[0msrc\u001b[0m\u001b[0;34m.\u001b[0m\u001b[0mitem_item_prototype\u001b[0m \u001b[0;32mimport\u001b[0m \u001b[0mget_ratings_data\u001b[0m\u001b[0;34m,\u001b[0m \u001b[0mload_movies\u001b[0m\u001b[0;34m\u001b[0m\u001b[0;34m\u001b[0m\u001b[0m\n",
      "\u001b[0;31mModuleNotFoundError\u001b[0m: No module named 'src'"
     ]
    }
   ],
   "source": [
    "from scipy import stats\n",
    "from scipy.spatial.distance import euclidean\n",
    "import numpy as np\n",
    "import pandas as pd\n",
    "import matplotlib.pyplot as plt\n",
    "plt.style.use('ggplot')\n",
    "plt.rcParams.update({'font.size': 16})\n",
    "plt.rcParams['axes.facecolor'] = 'white'\n",
    "import matplotlib as mpl\n",
    "mpl.rcParams['grid.color'] = 'lightgrey'\n",
    "#needed for all graphs\n",
    "colors = ['black', 'yellowgreen', 'thistle', 'slategrey', 'm']\n",
    "alphas = [1, .5, 1, 1, 1]\n",
    "s = 5\n",
    "\n",
    "from scipy.sparse import csr_matrix\n",
    "from src.ItemItemRecommender import ItemItemRecommender\n",
    "from sklearn.model_selection import train_test_split\n",
    "from src.item_item_prototype import get_ratings_data, load_movies\n",
    "import warnings\n",
    "warnings.filterwarnings('ignore')\n",
    "\n",
    "\n",
    "# little test matrix\n",
    "def ratings_matrix():\n",
    "    return np.array([[4, 4, 0, 2, 2],\n",
    "                     [4, 0, 0, 3, 3],\n",
    "                     [4, 0, 0, 1, 1],\n",
    "                     [1, 1, 1, 2, 0],\n",
    "                     [2, 2, 2, 0, 0],\n",
    "                     [1, 1, 1, 0, 0],\n",
    "                     [5, 5, 5, 0, 0]]).astype(float)"
   ]
  },
  {
   "cell_type": "code",
   "execution_count": 99,
   "metadata": {},
   "outputs": [
    {
     "name": "stdout",
     "output_type": "stream",
     "text": [
      "/Users/lisapaige/Desktop/den-19/lectures/similarity-based-recommenders/frank-burkholder\n"
     ]
    }
   ],
   "source": [
    "!pwd"
   ]
  },
  {
   "cell_type": "code",
   "execution_count": null,
   "metadata": {},
   "outputs": [],
   "source": []
  },
  {
   "cell_type": "code",
   "execution_count": null,
   "metadata": {},
   "outputs": [],
   "source": []
  },
  {
   "cell_type": "code",
   "execution_count": null,
   "metadata": {},
   "outputs": [],
   "source": []
  },
  {
   "cell_type": "code",
   "execution_count": null,
   "metadata": {},
   "outputs": [],
   "source": []
  },
  {
   "cell_type": "code",
   "execution_count": null,
   "metadata": {},
   "outputs": [],
   "source": []
  },
  {
   "cell_type": "code",
   "execution_count": null,
   "metadata": {},
   "outputs": [],
   "source": []
  },
  {
   "cell_type": "code",
   "execution_count": 7,
   "metadata": {},
   "outputs": [],
   "source": [
    "def sim_euclidean(u, v):\n",
    "    return 1 / (1 + euclidean(u, v))\n",
    "\n",
    "def sim_cosine(u, v):\n",
    "    costheta = np.dot(u, v)/(np.linalg.norm(u) * np.linalg.norm(v))\n",
    "    return 0.5 + 0.5 * costheta"
   ]
  },
  {
   "cell_type": "code",
   "execution_count": 8,
   "metadata": {},
   "outputs": [],
   "source": [
    "# plan to impute ratings.\n",
    "# input: given any two items U(i,j), and distance metric d:\n",
    "# find the distance between the vectors of shared ratings\n",
    "# output: matrix of distances between items\n",
    "\n",
    "# for any two users, + distance metric\n",
    "# find the distance between the vectors of shared ratings\n",
    "# output: user distance matrix\n",
    "\n",
    "# for each missing value:\n",
    "# PEDRO:\n",
    "# for all peter rated food\n",
    "# sum(col dist: chk to item) * peter rating of j\n",
    "\n",
    "# RILEY:\n",
    "# normalize user distance matrix\n",
    "# missing values = for each row\n",
    "#sum across columns dist-to-peter * normed average \n"
   ]
  },
  {
   "cell_type": "code",
   "execution_count": 66,
   "metadata": {},
   "outputs": [
    {
     "name": "stderr",
     "output_type": "stream",
     "text": [
      "/Users/lisapaige/opt/anaconda3/lib/python3.7/site-packages/ipykernel_launcher.py:17: RuntimeWarning: invalid value encountered in double_scalars\n"
     ]
    },
    {
     "data": {
      "text/plain": [
       "(array([[0.        , 1.        , 1.        , 0.87546554, 0.9258201 ],\n",
       "        [1.        , 0.        , 1.        , 0.85749293, 1.        ],\n",
       "        [1.        , 1.        , 0.        , 1.        ,        nan],\n",
       "        [0.87546554, 0.85749293, 1.        , 0.        , 1.        ],\n",
       "        [0.9258201 , 1.        ,        nan, 1.        , 0.        ]]),\n",
       " array([[0.        , 0.        , 0.        , 3.87298335, 3.74165739],\n",
       "        [0.        , 0.        , 0.        , 2.23606798, 2.        ],\n",
       "        [0.        , 0.        , 0.        , 1.        , 0.        ],\n",
       "        [3.87298335, 2.23606798, 1.        , 0.        , 0.        ],\n",
       "        [3.74165739, 2.        , 0.        , 0.        , 0.        ]]))"
      ]
     },
     "execution_count": 66,
     "metadata": {},
     "output_type": "execute_result"
    }
   ],
   "source": [
    "# Pedro\n",
    "utility = ratings_matrix()\n",
    "\n",
    "n = utility.shape[0]\n",
    "m = utility.shape[1]\n",
    "\n",
    "def item_dist_mat(df):\n",
    "    m = df.shape[1]\n",
    "    M = df.T\n",
    "    D_cos = np.zeros((m,m))\n",
    "    D_euc = np.zeros((m,m))\n",
    "    for i in range(m):\n",
    "        for j in range(m):\n",
    "            if i != j:\n",
    "                z = (M[i]==0) + (M[j]==0)\n",
    "                a,b = M[i][~z], M[j][~z]\n",
    "                d_cos = (a.dot(b))/(np.sqrt(a.dot(a))*np.sqrt(b.dot(b)))\n",
    "                d_euc = np.sqrt(sum((a-b)**2))\n",
    "                D_cos[i,j] = d_cos\n",
    "                D_euc[i,j] = d_euc\n",
    "    return D_cos, D_euc\n",
    "\n",
    "item_dist_mat(utility)\n",
    "\n",
    "def user_mean_mat(df)\n",
    "    n = df.shape[0]\n",
    "    riley = df.mean(axis = 1)\n",
    "    sd = df.std(axis = 1)\n",
    "\n",
    "def user_dist_mat(df):\n",
    "    m = df.shape[1]\n",
    "    M = df.T\n",
    "    D_cos = np.zeros((m,m))\n",
    "    D_euc = np.zeros((m,m))\n",
    "    for i in range(m):\n",
    "        for j in range(m):\n",
    "            if i != j:\n",
    "                z = (M[i]==0) + (M[j]==0)\n",
    "                a,b = M[i][~z], M[j][~z]\n",
    "                d_cos = (a.dot(b))/(np.sqrt(a.dot(a))*np.sqrt(b.dot(b)))\n",
    "                d_euc = np.sqrt(sum((a-b)**2))\n",
    "                D_cos[i,j] = d_cos\n",
    "                D_euc[i,j] = d_euc\n",
    "    return D_cos, D_euc\n",
    "\n",
    "item_dist_mat(utility)\n",
    "    "
   ]
  },
  {
   "cell_type": "code",
   "execution_count": 74,
   "metadata": {},
   "outputs": [
    {
     "data": {
      "text/plain": [
       "array([3.59199109, 3.34664011, 1.76363261, 0.63245553, 1.17575508,\n",
       "       0.29393877, 7.34846923])"
      ]
     },
     "execution_count": 74,
     "metadata": {},
     "output_type": "execute_result"
    }
   ],
   "source": [
    "utility.mean(axis=1)*utility.std(axis=1)"
   ]
  },
  {
   "cell_type": "code",
   "execution_count": 75,
   "metadata": {},
   "outputs": [
    {
     "data": {
      "text/plain": [
       "array([[4., 4., 0., 2., 2.],\n",
       "       [4., 0., 0., 3., 3.],\n",
       "       [4., 0., 0., 1., 1.],\n",
       "       [1., 1., 1., 2., 0.],\n",
       "       [2., 2., 2., 0., 0.],\n",
       "       [1., 1., 1., 0., 0.],\n",
       "       [5., 5., 5., 0., 0.]])"
      ]
     },
     "execution_count": 75,
     "metadata": {},
     "output_type": "execute_result"
    }
   ],
   "source": [
    "utility"
   ]
  },
  {
   "cell_type": "code",
   "execution_count": 76,
   "metadata": {},
   "outputs": [
    {
     "data": {
      "text/plain": [
       "array([2.4, 2. , 1.2, 1. , 1.2, 0.6, 3. ])"
      ]
     },
     "execution_count": 76,
     "metadata": {},
     "output_type": "execute_result"
    }
   ],
   "source": [
    "utility.mean(axis=1)"
   ]
  },
  {
   "cell_type": "code",
   "execution_count": 77,
   "metadata": {},
   "outputs": [
    {
     "data": {
      "text/plain": [
       "array([1.49666295, 1.67332005, 1.46969385, 0.63245553, 0.9797959 ,\n",
       "       0.48989795, 2.44948974])"
      ]
     },
     "execution_count": 77,
     "metadata": {},
     "output_type": "execute_result"
    }
   ],
   "source": [
    "utility.std(axis=1)"
   ]
  },
  {
   "cell_type": "code",
   "execution_count": 80,
   "metadata": {},
   "outputs": [
    {
     "data": {
      "text/plain": [
       "0.9999999999999999"
      ]
     },
     "execution_count": 80,
     "metadata": {},
     "output_type": "execute_result"
    }
   ],
   "source": [
    "a = np.ones(5)\n",
    "b = np.ones(5)*5\n",
    "(a.dot(b))/(np.sqrt(a.dot(a))*np.sqrt(b.dot(b)))"
   ]
  },
  {
   "cell_type": "code",
   "execution_count": 69,
   "metadata": {},
   "outputs": [
    {
     "data": {
      "text/plain": [
       "array([4., 1., 2., 1., 5.])"
      ]
     },
     "execution_count": 69,
     "metadata": {},
     "output_type": "execute_result"
    }
   ],
   "source": [
    "M[1]\n",
    "z\n",
    "M[1][~z]\n",
    "M[0][~z]"
   ]
  },
  {
   "cell_type": "code",
   "execution_count": 12,
   "metadata": {},
   "outputs": [
    {
     "data": {
      "text/plain": [
       "array([[4., 4., 4., 1., 2., 1., 5.],\n",
       "       [4., 0., 0., 1., 2., 1., 5.],\n",
       "       [0., 0., 0., 1., 2., 1., 5.],\n",
       "       [2., 3., 1., 2., 0., 0., 0.],\n",
       "       [2., 3., 1., 0., 0., 0., 0.]])"
      ]
     },
     "execution_count": 12,
     "metadata": {},
     "output_type": "execute_result"
    }
   ],
   "source": [
    "\n",
    "\n",
    "\n",
    "\n",
    "utility.T"
   ]
  },
  {
   "cell_type": "code",
   "execution_count": null,
   "metadata": {},
   "outputs": [],
   "source": [
    "# Riley\n"
   ]
  },
  {
   "cell_type": "code",
   "execution_count": 9,
   "metadata": {},
   "outputs": [
    {
     "data": {
      "text/plain": [
       "array([[4., 4., 0., 2., 2.],\n",
       "       [4., 0., 0., 3., 3.],\n",
       "       [4., 0., 0., 1., 1.],\n",
       "       [1., 1., 1., 2., 0.],\n",
       "       [2., 2., 2., 0., 0.],\n",
       "       [1., 1., 1., 0., 0.],\n",
       "       [5., 5., 5., 0., 0.]])"
      ]
     },
     "execution_count": 9,
     "metadata": {},
     "output_type": "execute_result"
    }
   ],
   "source": [
    "utility"
   ]
  },
  {
   "cell_type": "code",
   "execution_count": 85,
   "metadata": {},
   "outputs": [
    {
     "data": {
      "text/plain": [
       "array([2., 2., 0., 0.])"
      ]
     },
     "execution_count": 85,
     "metadata": {},
     "output_type": "execute_result"
    }
   ],
   "source": [
    "(utility[0][utility[0]!=0]-utility[0][utility[0]!=0].mean())+utility[0][utility[0]!=0].std()"
   ]
  },
  {
   "cell_type": "code",
   "execution_count": 86,
   "metadata": {},
   "outputs": [
    {
     "data": {
      "text/plain": [
       "1.0"
      ]
     },
     "execution_count": 86,
     "metadata": {},
     "output_type": "execute_result"
    }
   ],
   "source": [
    "utility[0][utility[0]!=0].std()"
   ]
  },
  {
   "cell_type": "code",
   "execution_count": 97,
   "metadata": {},
   "outputs": [
    {
     "name": "stdout",
     "output_type": "stream",
     "text": [
      "[4.5 4.5 2.5 2.5]\n",
      "[2.77777778 1.77777778 1.77777778]\n",
      "[7. 4. 4.]\n",
      "[0.75 0.75 0.75 1.75]\n",
      "[1. 1. 1.]\n",
      "[0.5 0.5 0.5]\n",
      "[2.5 2.5 2.5]\n"
     ]
    }
   ],
   "source": [
    "for i in range(7):\n",
    "    print((utility[i][utility[i]!=0]-.5*utility[i][utility[i]!=0].mean())+2*utility[i][utility[i]!=0].var())"
   ]
  },
  {
   "cell_type": "code",
   "execution_count": null,
   "metadata": {},
   "outputs": [],
   "source": []
  }
 ],
 "metadata": {
  "kernelspec": {
   "display_name": "Python 3",
   "language": "python",
   "name": "python3"
  },
  "language_info": {
   "codemirror_mode": {
    "name": "ipython",
    "version": 3
   },
   "file_extension": ".py",
   "mimetype": "text/x-python",
   "name": "python",
   "nbconvert_exporter": "python",
   "pygments_lexer": "ipython3",
   "version": "3.7.7"
  }
 },
 "nbformat": 4,
 "nbformat_minor": 4
}
